{
 "cells": [
  {
   "cell_type": "code",
   "execution_count": 1,
   "id": "2e98f1bd",
   "metadata": {
    "execution": {
     "iopub.execute_input": "2022-09-20T13:13:45.066757Z",
     "iopub.status.busy": "2022-09-20T13:13:45.066293Z",
     "iopub.status.idle": "2022-09-20T13:13:45.076907Z",
     "shell.execute_reply": "2022-09-20T13:13:45.075968Z"
    },
    "papermill": {
     "duration": 0.024258,
     "end_time": "2022-09-20T13:13:45.079316",
     "exception": false,
     "start_time": "2022-09-20T13:13:45.055058",
     "status": "completed"
    },
    "tags": []
   },
   "outputs": [],
   "source": [
    "import pandas as pd \n",
    "\n",
    "import numpy as np"
   ]
  },
  {
   "cell_type": "code",
   "execution_count": 2,
   "id": "3d57a171",
   "metadata": {
    "execution": {
     "iopub.execute_input": "2022-09-20T13:13:45.097568Z",
     "iopub.status.busy": "2022-09-20T13:13:45.096823Z",
     "iopub.status.idle": "2022-09-20T13:13:45.131724Z",
     "shell.execute_reply": "2022-09-20T13:13:45.130580Z"
    },
    "papermill": {
     "duration": 0.047267,
     "end_time": "2022-09-20T13:13:45.134905",
     "exception": false,
     "start_time": "2022-09-20T13:13:45.087638",
     "status": "completed"
    },
    "tags": []
   },
   "outputs": [],
   "source": [
    "train_data=pd.read_csv('../input/titanic/train.csv')\n",
    "test_data=pd.read_csv('../input/titanic/test.csv')"
   ]
  },
  {
   "cell_type": "code",
   "execution_count": 3,
   "id": "cd4bc122",
   "metadata": {
    "execution": {
     "iopub.execute_input": "2022-09-20T13:13:45.158340Z",
     "iopub.status.busy": "2022-09-20T13:13:45.156802Z",
     "iopub.status.idle": "2022-09-20T13:13:45.191571Z",
     "shell.execute_reply": "2022-09-20T13:13:45.190495Z"
    },
    "papermill": {
     "duration": 0.048369,
     "end_time": "2022-09-20T13:13:45.194473",
     "exception": false,
     "start_time": "2022-09-20T13:13:45.146104",
     "status": "completed"
    },
    "tags": []
   },
   "outputs": [
    {
     "data": {
      "text/html": [
       "<div>\n",
       "<style scoped>\n",
       "    .dataframe tbody tr th:only-of-type {\n",
       "        vertical-align: middle;\n",
       "    }\n",
       "\n",
       "    .dataframe tbody tr th {\n",
       "        vertical-align: top;\n",
       "    }\n",
       "\n",
       "    .dataframe thead th {\n",
       "        text-align: right;\n",
       "    }\n",
       "</style>\n",
       "<table border=\"1\" class=\"dataframe\">\n",
       "  <thead>\n",
       "    <tr style=\"text-align: right;\">\n",
       "      <th></th>\n",
       "      <th>PassengerId</th>\n",
       "      <th>Survived</th>\n",
       "      <th>Pclass</th>\n",
       "      <th>Name</th>\n",
       "      <th>Sex</th>\n",
       "      <th>Age</th>\n",
       "      <th>SibSp</th>\n",
       "      <th>Parch</th>\n",
       "      <th>Ticket</th>\n",
       "      <th>Fare</th>\n",
       "      <th>Cabin</th>\n",
       "      <th>Embarked</th>\n",
       "    </tr>\n",
       "  </thead>\n",
       "  <tbody>\n",
       "    <tr>\n",
       "      <th>0</th>\n",
       "      <td>1</td>\n",
       "      <td>0</td>\n",
       "      <td>3</td>\n",
       "      <td>Braund, Mr. Owen Harris</td>\n",
       "      <td>male</td>\n",
       "      <td>22.0</td>\n",
       "      <td>1</td>\n",
       "      <td>0</td>\n",
       "      <td>A/5 21171</td>\n",
       "      <td>7.2500</td>\n",
       "      <td>NaN</td>\n",
       "      <td>S</td>\n",
       "    </tr>\n",
       "    <tr>\n",
       "      <th>1</th>\n",
       "      <td>2</td>\n",
       "      <td>1</td>\n",
       "      <td>1</td>\n",
       "      <td>Cumings, Mrs. John Bradley (Florence Briggs Th...</td>\n",
       "      <td>female</td>\n",
       "      <td>38.0</td>\n",
       "      <td>1</td>\n",
       "      <td>0</td>\n",
       "      <td>PC 17599</td>\n",
       "      <td>71.2833</td>\n",
       "      <td>C85</td>\n",
       "      <td>C</td>\n",
       "    </tr>\n",
       "    <tr>\n",
       "      <th>2</th>\n",
       "      <td>3</td>\n",
       "      <td>1</td>\n",
       "      <td>3</td>\n",
       "      <td>Heikkinen, Miss. Laina</td>\n",
       "      <td>female</td>\n",
       "      <td>26.0</td>\n",
       "      <td>0</td>\n",
       "      <td>0</td>\n",
       "      <td>STON/O2. 3101282</td>\n",
       "      <td>7.9250</td>\n",
       "      <td>NaN</td>\n",
       "      <td>S</td>\n",
       "    </tr>\n",
       "    <tr>\n",
       "      <th>3</th>\n",
       "      <td>4</td>\n",
       "      <td>1</td>\n",
       "      <td>1</td>\n",
       "      <td>Futrelle, Mrs. Jacques Heath (Lily May Peel)</td>\n",
       "      <td>female</td>\n",
       "      <td>35.0</td>\n",
       "      <td>1</td>\n",
       "      <td>0</td>\n",
       "      <td>113803</td>\n",
       "      <td>53.1000</td>\n",
       "      <td>C123</td>\n",
       "      <td>S</td>\n",
       "    </tr>\n",
       "    <tr>\n",
       "      <th>4</th>\n",
       "      <td>5</td>\n",
       "      <td>0</td>\n",
       "      <td>3</td>\n",
       "      <td>Allen, Mr. William Henry</td>\n",
       "      <td>male</td>\n",
       "      <td>35.0</td>\n",
       "      <td>0</td>\n",
       "      <td>0</td>\n",
       "      <td>373450</td>\n",
       "      <td>8.0500</td>\n",
       "      <td>NaN</td>\n",
       "      <td>S</td>\n",
       "    </tr>\n",
       "  </tbody>\n",
       "</table>\n",
       "</div>"
      ],
      "text/plain": [
       "   PassengerId  Survived  Pclass  \\\n",
       "0            1         0       3   \n",
       "1            2         1       1   \n",
       "2            3         1       3   \n",
       "3            4         1       1   \n",
       "4            5         0       3   \n",
       "\n",
       "                                                Name     Sex   Age  SibSp  \\\n",
       "0                            Braund, Mr. Owen Harris    male  22.0      1   \n",
       "1  Cumings, Mrs. John Bradley (Florence Briggs Th...  female  38.0      1   \n",
       "2                             Heikkinen, Miss. Laina  female  26.0      0   \n",
       "3       Futrelle, Mrs. Jacques Heath (Lily May Peel)  female  35.0      1   \n",
       "4                           Allen, Mr. William Henry    male  35.0      0   \n",
       "\n",
       "   Parch            Ticket     Fare Cabin Embarked  \n",
       "0      0         A/5 21171   7.2500   NaN        S  \n",
       "1      0          PC 17599  71.2833   C85        C  \n",
       "2      0  STON/O2. 3101282   7.9250   NaN        S  \n",
       "3      0            113803  53.1000  C123        S  \n",
       "4      0            373450   8.0500   NaN        S  "
      ]
     },
     "execution_count": 3,
     "metadata": {},
     "output_type": "execute_result"
    }
   ],
   "source": [
    "train_data.head()"
   ]
  },
  {
   "cell_type": "code",
   "execution_count": 4,
   "id": "06dfd144",
   "metadata": {
    "execution": {
     "iopub.execute_input": "2022-09-20T13:13:45.213853Z",
     "iopub.status.busy": "2022-09-20T13:13:45.212885Z",
     "iopub.status.idle": "2022-09-20T13:13:45.228518Z",
     "shell.execute_reply": "2022-09-20T13:13:45.227516Z"
    },
    "papermill": {
     "duration": 0.027524,
     "end_time": "2022-09-20T13:13:45.230893",
     "exception": false,
     "start_time": "2022-09-20T13:13:45.203369",
     "status": "completed"
    },
    "tags": []
   },
   "outputs": [
    {
     "data": {
      "text/html": [
       "<div>\n",
       "<style scoped>\n",
       "    .dataframe tbody tr th:only-of-type {\n",
       "        vertical-align: middle;\n",
       "    }\n",
       "\n",
       "    .dataframe tbody tr th {\n",
       "        vertical-align: top;\n",
       "    }\n",
       "\n",
       "    .dataframe thead th {\n",
       "        text-align: right;\n",
       "    }\n",
       "</style>\n",
       "<table border=\"1\" class=\"dataframe\">\n",
       "  <thead>\n",
       "    <tr style=\"text-align: right;\">\n",
       "      <th></th>\n",
       "      <th>PassengerId</th>\n",
       "      <th>Survived</th>\n",
       "      <th>Pclass</th>\n",
       "      <th>Name</th>\n",
       "      <th>Sex</th>\n",
       "      <th>Age</th>\n",
       "      <th>SibSp</th>\n",
       "      <th>Parch</th>\n",
       "      <th>Ticket</th>\n",
       "      <th>Fare</th>\n",
       "      <th>Cabin</th>\n",
       "      <th>Embarked</th>\n",
       "    </tr>\n",
       "  </thead>\n",
       "  <tbody>\n",
       "    <tr>\n",
       "      <th>886</th>\n",
       "      <td>887</td>\n",
       "      <td>0</td>\n",
       "      <td>2</td>\n",
       "      <td>Montvila, Rev. Juozas</td>\n",
       "      <td>male</td>\n",
       "      <td>27.0</td>\n",
       "      <td>0</td>\n",
       "      <td>0</td>\n",
       "      <td>211536</td>\n",
       "      <td>13.00</td>\n",
       "      <td>NaN</td>\n",
       "      <td>S</td>\n",
       "    </tr>\n",
       "    <tr>\n",
       "      <th>887</th>\n",
       "      <td>888</td>\n",
       "      <td>1</td>\n",
       "      <td>1</td>\n",
       "      <td>Graham, Miss. Margaret Edith</td>\n",
       "      <td>female</td>\n",
       "      <td>19.0</td>\n",
       "      <td>0</td>\n",
       "      <td>0</td>\n",
       "      <td>112053</td>\n",
       "      <td>30.00</td>\n",
       "      <td>B42</td>\n",
       "      <td>S</td>\n",
       "    </tr>\n",
       "    <tr>\n",
       "      <th>888</th>\n",
       "      <td>889</td>\n",
       "      <td>0</td>\n",
       "      <td>3</td>\n",
       "      <td>Johnston, Miss. Catherine Helen \"Carrie\"</td>\n",
       "      <td>female</td>\n",
       "      <td>NaN</td>\n",
       "      <td>1</td>\n",
       "      <td>2</td>\n",
       "      <td>W./C. 6607</td>\n",
       "      <td>23.45</td>\n",
       "      <td>NaN</td>\n",
       "      <td>S</td>\n",
       "    </tr>\n",
       "    <tr>\n",
       "      <th>889</th>\n",
       "      <td>890</td>\n",
       "      <td>1</td>\n",
       "      <td>1</td>\n",
       "      <td>Behr, Mr. Karl Howell</td>\n",
       "      <td>male</td>\n",
       "      <td>26.0</td>\n",
       "      <td>0</td>\n",
       "      <td>0</td>\n",
       "      <td>111369</td>\n",
       "      <td>30.00</td>\n",
       "      <td>C148</td>\n",
       "      <td>C</td>\n",
       "    </tr>\n",
       "    <tr>\n",
       "      <th>890</th>\n",
       "      <td>891</td>\n",
       "      <td>0</td>\n",
       "      <td>3</td>\n",
       "      <td>Dooley, Mr. Patrick</td>\n",
       "      <td>male</td>\n",
       "      <td>32.0</td>\n",
       "      <td>0</td>\n",
       "      <td>0</td>\n",
       "      <td>370376</td>\n",
       "      <td>7.75</td>\n",
       "      <td>NaN</td>\n",
       "      <td>Q</td>\n",
       "    </tr>\n",
       "  </tbody>\n",
       "</table>\n",
       "</div>"
      ],
      "text/plain": [
       "     PassengerId  Survived  Pclass                                      Name  \\\n",
       "886          887         0       2                     Montvila, Rev. Juozas   \n",
       "887          888         1       1              Graham, Miss. Margaret Edith   \n",
       "888          889         0       3  Johnston, Miss. Catherine Helen \"Carrie\"   \n",
       "889          890         1       1                     Behr, Mr. Karl Howell   \n",
       "890          891         0       3                       Dooley, Mr. Patrick   \n",
       "\n",
       "        Sex   Age  SibSp  Parch      Ticket   Fare Cabin Embarked  \n",
       "886    male  27.0      0      0      211536  13.00   NaN        S  \n",
       "887  female  19.0      0      0      112053  30.00   B42        S  \n",
       "888  female   NaN      1      2  W./C. 6607  23.45   NaN        S  \n",
       "889    male  26.0      0      0      111369  30.00  C148        C  \n",
       "890    male  32.0      0      0      370376   7.75   NaN        Q  "
      ]
     },
     "execution_count": 4,
     "metadata": {},
     "output_type": "execute_result"
    }
   ],
   "source": [
    "train_data.tail()"
   ]
  },
  {
   "cell_type": "code",
   "execution_count": 5,
   "id": "e97c2041",
   "metadata": {
    "execution": {
     "iopub.execute_input": "2022-09-20T13:13:45.249680Z",
     "iopub.status.busy": "2022-09-20T13:13:45.249301Z",
     "iopub.status.idle": "2022-09-20T13:13:45.256384Z",
     "shell.execute_reply": "2022-09-20T13:13:45.255279Z"
    },
    "papermill": {
     "duration": 0.019298,
     "end_time": "2022-09-20T13:13:45.258755",
     "exception": false,
     "start_time": "2022-09-20T13:13:45.239457",
     "status": "completed"
    },
    "tags": []
   },
   "outputs": [
    {
     "data": {
      "text/plain": [
       "((891, 12),\n",
       " Index(['PassengerId', 'Survived', 'Pclass', 'Name', 'Sex', 'Age', 'SibSp',\n",
       "        'Parch', 'Ticket', 'Fare', 'Cabin', 'Embarked'],\n",
       "       dtype='object'))"
      ]
     },
     "execution_count": 5,
     "metadata": {},
     "output_type": "execute_result"
    }
   ],
   "source": [
    "train_data.shape,train_data.columns"
   ]
  },
  {
   "cell_type": "code",
   "execution_count": 6,
   "id": "42c7214d",
   "metadata": {
    "execution": {
     "iopub.execute_input": "2022-09-20T13:13:45.283301Z",
     "iopub.status.busy": "2022-09-20T13:13:45.282214Z",
     "iopub.status.idle": "2022-09-20T13:13:45.329511Z",
     "shell.execute_reply": "2022-09-20T13:13:45.328309Z"
    },
    "papermill": {
     "duration": 0.062817,
     "end_time": "2022-09-20T13:13:45.332023",
     "exception": false,
     "start_time": "2022-09-20T13:13:45.269206",
     "status": "completed"
    },
    "tags": []
   },
   "outputs": [
    {
     "data": {
      "text/html": [
       "<div>\n",
       "<style scoped>\n",
       "    .dataframe tbody tr th:only-of-type {\n",
       "        vertical-align: middle;\n",
       "    }\n",
       "\n",
       "    .dataframe tbody tr th {\n",
       "        vertical-align: top;\n",
       "    }\n",
       "\n",
       "    .dataframe thead th {\n",
       "        text-align: right;\n",
       "    }\n",
       "</style>\n",
       "<table border=\"1\" class=\"dataframe\">\n",
       "  <thead>\n",
       "    <tr style=\"text-align: right;\">\n",
       "      <th></th>\n",
       "      <th>PassengerId</th>\n",
       "      <th>Survived</th>\n",
       "      <th>Pclass</th>\n",
       "      <th>Age</th>\n",
       "      <th>SibSp</th>\n",
       "      <th>Parch</th>\n",
       "      <th>Fare</th>\n",
       "    </tr>\n",
       "  </thead>\n",
       "  <tbody>\n",
       "    <tr>\n",
       "      <th>count</th>\n",
       "      <td>891.000000</td>\n",
       "      <td>891.000000</td>\n",
       "      <td>891.000000</td>\n",
       "      <td>714.000000</td>\n",
       "      <td>891.000000</td>\n",
       "      <td>891.000000</td>\n",
       "      <td>891.000000</td>\n",
       "    </tr>\n",
       "    <tr>\n",
       "      <th>mean</th>\n",
       "      <td>446.000000</td>\n",
       "      <td>0.383838</td>\n",
       "      <td>2.308642</td>\n",
       "      <td>29.699118</td>\n",
       "      <td>0.523008</td>\n",
       "      <td>0.381594</td>\n",
       "      <td>32.204208</td>\n",
       "    </tr>\n",
       "    <tr>\n",
       "      <th>std</th>\n",
       "      <td>257.353842</td>\n",
       "      <td>0.486592</td>\n",
       "      <td>0.836071</td>\n",
       "      <td>14.526497</td>\n",
       "      <td>1.102743</td>\n",
       "      <td>0.806057</td>\n",
       "      <td>49.693429</td>\n",
       "    </tr>\n",
       "    <tr>\n",
       "      <th>min</th>\n",
       "      <td>1.000000</td>\n",
       "      <td>0.000000</td>\n",
       "      <td>1.000000</td>\n",
       "      <td>0.420000</td>\n",
       "      <td>0.000000</td>\n",
       "      <td>0.000000</td>\n",
       "      <td>0.000000</td>\n",
       "    </tr>\n",
       "    <tr>\n",
       "      <th>25%</th>\n",
       "      <td>223.500000</td>\n",
       "      <td>0.000000</td>\n",
       "      <td>2.000000</td>\n",
       "      <td>20.125000</td>\n",
       "      <td>0.000000</td>\n",
       "      <td>0.000000</td>\n",
       "      <td>7.910400</td>\n",
       "    </tr>\n",
       "    <tr>\n",
       "      <th>50%</th>\n",
       "      <td>446.000000</td>\n",
       "      <td>0.000000</td>\n",
       "      <td>3.000000</td>\n",
       "      <td>28.000000</td>\n",
       "      <td>0.000000</td>\n",
       "      <td>0.000000</td>\n",
       "      <td>14.454200</td>\n",
       "    </tr>\n",
       "    <tr>\n",
       "      <th>75%</th>\n",
       "      <td>668.500000</td>\n",
       "      <td>1.000000</td>\n",
       "      <td>3.000000</td>\n",
       "      <td>38.000000</td>\n",
       "      <td>1.000000</td>\n",
       "      <td>0.000000</td>\n",
       "      <td>31.000000</td>\n",
       "    </tr>\n",
       "    <tr>\n",
       "      <th>max</th>\n",
       "      <td>891.000000</td>\n",
       "      <td>1.000000</td>\n",
       "      <td>3.000000</td>\n",
       "      <td>80.000000</td>\n",
       "      <td>8.000000</td>\n",
       "      <td>6.000000</td>\n",
       "      <td>512.329200</td>\n",
       "    </tr>\n",
       "  </tbody>\n",
       "</table>\n",
       "</div>"
      ],
      "text/plain": [
       "       PassengerId    Survived      Pclass         Age       SibSp  \\\n",
       "count   891.000000  891.000000  891.000000  714.000000  891.000000   \n",
       "mean    446.000000    0.383838    2.308642   29.699118    0.523008   \n",
       "std     257.353842    0.486592    0.836071   14.526497    1.102743   \n",
       "min       1.000000    0.000000    1.000000    0.420000    0.000000   \n",
       "25%     223.500000    0.000000    2.000000   20.125000    0.000000   \n",
       "50%     446.000000    0.000000    3.000000   28.000000    0.000000   \n",
       "75%     668.500000    1.000000    3.000000   38.000000    1.000000   \n",
       "max     891.000000    1.000000    3.000000   80.000000    8.000000   \n",
       "\n",
       "            Parch        Fare  \n",
       "count  891.000000  891.000000  \n",
       "mean     0.381594   32.204208  \n",
       "std      0.806057   49.693429  \n",
       "min      0.000000    0.000000  \n",
       "25%      0.000000    7.910400  \n",
       "50%      0.000000   14.454200  \n",
       "75%      0.000000   31.000000  \n",
       "max      6.000000  512.329200  "
      ]
     },
     "execution_count": 6,
     "metadata": {},
     "output_type": "execute_result"
    }
   ],
   "source": [
    "train_data.describe()"
   ]
  },
  {
   "cell_type": "code",
   "execution_count": 7,
   "id": "7aae7528",
   "metadata": {
    "execution": {
     "iopub.execute_input": "2022-09-20T13:13:45.352807Z",
     "iopub.status.busy": "2022-09-20T13:13:45.351854Z",
     "iopub.status.idle": "2022-09-20T13:13:45.362735Z",
     "shell.execute_reply": "2022-09-20T13:13:45.361738Z"
    },
    "papermill": {
     "duration": 0.023629,
     "end_time": "2022-09-20T13:13:45.364843",
     "exception": false,
     "start_time": "2022-09-20T13:13:45.341214",
     "status": "completed"
    },
    "tags": []
   },
   "outputs": [
    {
     "data": {
      "text/plain": [
       "PassengerId      0\n",
       "Survived         0\n",
       "Pclass           0\n",
       "Name             0\n",
       "Sex              0\n",
       "Age            177\n",
       "SibSp            0\n",
       "Parch            0\n",
       "Ticket           0\n",
       "Fare             0\n",
       "Cabin          687\n",
       "Embarked         2\n",
       "dtype: int64"
      ]
     },
     "execution_count": 7,
     "metadata": {},
     "output_type": "execute_result"
    }
   ],
   "source": [
    "train_data.isnull().sum()"
   ]
  },
  {
   "cell_type": "markdown",
   "id": "f34d5151",
   "metadata": {
    "papermill": {
     "duration": 0.009396,
     "end_time": "2022-09-20T13:13:45.383424",
     "exception": false,
     "start_time": "2022-09-20T13:13:45.374028",
     "status": "completed"
    },
    "tags": []
   },
   "source": [
    "# **Data_Preprocessing**"
   ]
  },
  {
   "cell_type": "code",
   "execution_count": 8,
   "id": "05c15e33",
   "metadata": {
    "execution": {
     "iopub.execute_input": "2022-09-20T13:13:45.405586Z",
     "iopub.status.busy": "2022-09-20T13:13:45.404917Z",
     "iopub.status.idle": "2022-09-20T13:13:45.411627Z",
     "shell.execute_reply": "2022-09-20T13:13:45.410796Z"
    },
    "papermill": {
     "duration": 0.019625,
     "end_time": "2022-09-20T13:13:45.413686",
     "exception": false,
     "start_time": "2022-09-20T13:13:45.394061",
     "status": "completed"
    },
    "tags": []
   },
   "outputs": [
    {
     "data": {
      "text/plain": [
       "Index(['PassengerId', 'Survived', 'Pclass', 'Name', 'Sex', 'Age', 'SibSp',\n",
       "       'Parch', 'Ticket', 'Fare', 'Cabin', 'Embarked'],\n",
       "      dtype='object')"
      ]
     },
     "execution_count": 8,
     "metadata": {},
     "output_type": "execute_result"
    }
   ],
   "source": [
    "train_data.columns"
   ]
  },
  {
   "cell_type": "code",
   "execution_count": 9,
   "id": "113ad342",
   "metadata": {
    "execution": {
     "iopub.execute_input": "2022-09-20T13:13:45.434415Z",
     "iopub.status.busy": "2022-09-20T13:13:45.433995Z",
     "iopub.status.idle": "2022-09-20T13:13:45.441668Z",
     "shell.execute_reply": "2022-09-20T13:13:45.440422Z"
    },
    "papermill": {
     "duration": 0.020523,
     "end_time": "2022-09-20T13:13:45.443909",
     "exception": false,
     "start_time": "2022-09-20T13:13:45.423386",
     "status": "completed"
    },
    "tags": []
   },
   "outputs": [],
   "source": [
    "columns=['PassengerId','Ticket','Name','Cabin']\n",
    "train_data.drop(columns,axis=1,inplace=True)\n",
    "test_data.drop(columns,axis=1,inplace=True)\n"
   ]
  },
  {
   "cell_type": "code",
   "execution_count": 10,
   "id": "e8f140d0",
   "metadata": {
    "execution": {
     "iopub.execute_input": "2022-09-20T13:13:45.464900Z",
     "iopub.status.busy": "2022-09-20T13:13:45.464308Z",
     "iopub.status.idle": "2022-09-20T13:13:45.471609Z",
     "shell.execute_reply": "2022-09-20T13:13:45.470648Z"
    },
    "papermill": {
     "duration": 0.020524,
     "end_time": "2022-09-20T13:13:45.474060",
     "exception": false,
     "start_time": "2022-09-20T13:13:45.453536",
     "status": "completed"
    },
    "tags": []
   },
   "outputs": [],
   "source": [
    "#mapping some columns\n",
    "train_data['Sex']=train_data['Sex'].map({'male':1,'female':0})\n",
    "#mapping some columns\n",
    "test_data['Sex']=test_data['Sex'].map({'male':1,'female':0})"
   ]
  },
  {
   "cell_type": "code",
   "execution_count": 11,
   "id": "cbf93665",
   "metadata": {
    "execution": {
     "iopub.execute_input": "2022-09-20T13:13:45.498539Z",
     "iopub.status.busy": "2022-09-20T13:13:45.497388Z",
     "iopub.status.idle": "2022-09-20T13:13:45.509419Z",
     "shell.execute_reply": "2022-09-20T13:13:45.508520Z"
    },
    "papermill": {
     "duration": 0.026534,
     "end_time": "2022-09-20T13:13:45.512027",
     "exception": false,
     "start_time": "2022-09-20T13:13:45.485493",
     "status": "completed"
    },
    "tags": []
   },
   "outputs": [],
   "source": [
    "embarked_new=pd.get_dummies(train_data['Embarked'],prefix='Embarked',drop_first=True)\n",
    "train_data=pd.concat([train_data,embarked_new],axis=1)\n",
    "embarked_new1=pd.get_dummies(test_data['Embarked'],prefix='Embarked',drop_first=True)\n",
    "test_data=pd.concat([test_data,embarked_new1],axis=1)"
   ]
  },
  {
   "cell_type": "code",
   "execution_count": 12,
   "id": "aa737410",
   "metadata": {
    "execution": {
     "iopub.execute_input": "2022-09-20T13:13:45.534141Z",
     "iopub.status.busy": "2022-09-20T13:13:45.533342Z",
     "iopub.status.idle": "2022-09-20T13:13:45.551845Z",
     "shell.execute_reply": "2022-09-20T13:13:45.550701Z"
    },
    "papermill": {
     "duration": 0.031736,
     "end_time": "2022-09-20T13:13:45.554131",
     "exception": false,
     "start_time": "2022-09-20T13:13:45.522395",
     "status": "completed"
    },
    "tags": []
   },
   "outputs": [
    {
     "data": {
      "text/html": [
       "<div>\n",
       "<style scoped>\n",
       "    .dataframe tbody tr th:only-of-type {\n",
       "        vertical-align: middle;\n",
       "    }\n",
       "\n",
       "    .dataframe tbody tr th {\n",
       "        vertical-align: top;\n",
       "    }\n",
       "\n",
       "    .dataframe thead th {\n",
       "        text-align: right;\n",
       "    }\n",
       "</style>\n",
       "<table border=\"1\" class=\"dataframe\">\n",
       "  <thead>\n",
       "    <tr style=\"text-align: right;\">\n",
       "      <th></th>\n",
       "      <th>Pclass</th>\n",
       "      <th>Sex</th>\n",
       "      <th>Age</th>\n",
       "      <th>SibSp</th>\n",
       "      <th>Parch</th>\n",
       "      <th>Fare</th>\n",
       "      <th>Embarked</th>\n",
       "      <th>Embarked_Q</th>\n",
       "      <th>Embarked_S</th>\n",
       "    </tr>\n",
       "  </thead>\n",
       "  <tbody>\n",
       "    <tr>\n",
       "      <th>0</th>\n",
       "      <td>3</td>\n",
       "      <td>1</td>\n",
       "      <td>34.5</td>\n",
       "      <td>0</td>\n",
       "      <td>0</td>\n",
       "      <td>7.8292</td>\n",
       "      <td>Q</td>\n",
       "      <td>1</td>\n",
       "      <td>0</td>\n",
       "    </tr>\n",
       "    <tr>\n",
       "      <th>1</th>\n",
       "      <td>3</td>\n",
       "      <td>0</td>\n",
       "      <td>47.0</td>\n",
       "      <td>1</td>\n",
       "      <td>0</td>\n",
       "      <td>7.0000</td>\n",
       "      <td>S</td>\n",
       "      <td>0</td>\n",
       "      <td>1</td>\n",
       "    </tr>\n",
       "    <tr>\n",
       "      <th>2</th>\n",
       "      <td>2</td>\n",
       "      <td>1</td>\n",
       "      <td>62.0</td>\n",
       "      <td>0</td>\n",
       "      <td>0</td>\n",
       "      <td>9.6875</td>\n",
       "      <td>Q</td>\n",
       "      <td>1</td>\n",
       "      <td>0</td>\n",
       "    </tr>\n",
       "    <tr>\n",
       "      <th>3</th>\n",
       "      <td>3</td>\n",
       "      <td>1</td>\n",
       "      <td>27.0</td>\n",
       "      <td>0</td>\n",
       "      <td>0</td>\n",
       "      <td>8.6625</td>\n",
       "      <td>S</td>\n",
       "      <td>0</td>\n",
       "      <td>1</td>\n",
       "    </tr>\n",
       "    <tr>\n",
       "      <th>4</th>\n",
       "      <td>3</td>\n",
       "      <td>0</td>\n",
       "      <td>22.0</td>\n",
       "      <td>1</td>\n",
       "      <td>1</td>\n",
       "      <td>12.2875</td>\n",
       "      <td>S</td>\n",
       "      <td>0</td>\n",
       "      <td>1</td>\n",
       "    </tr>\n",
       "    <tr>\n",
       "      <th>...</th>\n",
       "      <td>...</td>\n",
       "      <td>...</td>\n",
       "      <td>...</td>\n",
       "      <td>...</td>\n",
       "      <td>...</td>\n",
       "      <td>...</td>\n",
       "      <td>...</td>\n",
       "      <td>...</td>\n",
       "      <td>...</td>\n",
       "    </tr>\n",
       "    <tr>\n",
       "      <th>413</th>\n",
       "      <td>3</td>\n",
       "      <td>1</td>\n",
       "      <td>NaN</td>\n",
       "      <td>0</td>\n",
       "      <td>0</td>\n",
       "      <td>8.0500</td>\n",
       "      <td>S</td>\n",
       "      <td>0</td>\n",
       "      <td>1</td>\n",
       "    </tr>\n",
       "    <tr>\n",
       "      <th>414</th>\n",
       "      <td>1</td>\n",
       "      <td>0</td>\n",
       "      <td>39.0</td>\n",
       "      <td>0</td>\n",
       "      <td>0</td>\n",
       "      <td>108.9000</td>\n",
       "      <td>C</td>\n",
       "      <td>0</td>\n",
       "      <td>0</td>\n",
       "    </tr>\n",
       "    <tr>\n",
       "      <th>415</th>\n",
       "      <td>3</td>\n",
       "      <td>1</td>\n",
       "      <td>38.5</td>\n",
       "      <td>0</td>\n",
       "      <td>0</td>\n",
       "      <td>7.2500</td>\n",
       "      <td>S</td>\n",
       "      <td>0</td>\n",
       "      <td>1</td>\n",
       "    </tr>\n",
       "    <tr>\n",
       "      <th>416</th>\n",
       "      <td>3</td>\n",
       "      <td>1</td>\n",
       "      <td>NaN</td>\n",
       "      <td>0</td>\n",
       "      <td>0</td>\n",
       "      <td>8.0500</td>\n",
       "      <td>S</td>\n",
       "      <td>0</td>\n",
       "      <td>1</td>\n",
       "    </tr>\n",
       "    <tr>\n",
       "      <th>417</th>\n",
       "      <td>3</td>\n",
       "      <td>1</td>\n",
       "      <td>NaN</td>\n",
       "      <td>1</td>\n",
       "      <td>1</td>\n",
       "      <td>22.3583</td>\n",
       "      <td>C</td>\n",
       "      <td>0</td>\n",
       "      <td>0</td>\n",
       "    </tr>\n",
       "  </tbody>\n",
       "</table>\n",
       "<p>418 rows × 9 columns</p>\n",
       "</div>"
      ],
      "text/plain": [
       "     Pclass  Sex   Age  SibSp  Parch      Fare Embarked  Embarked_Q  \\\n",
       "0         3    1  34.5      0      0    7.8292        Q           1   \n",
       "1         3    0  47.0      1      0    7.0000        S           0   \n",
       "2         2    1  62.0      0      0    9.6875        Q           1   \n",
       "3         3    1  27.0      0      0    8.6625        S           0   \n",
       "4         3    0  22.0      1      1   12.2875        S           0   \n",
       "..      ...  ...   ...    ...    ...       ...      ...         ...   \n",
       "413       3    1   NaN      0      0    8.0500        S           0   \n",
       "414       1    0  39.0      0      0  108.9000        C           0   \n",
       "415       3    1  38.5      0      0    7.2500        S           0   \n",
       "416       3    1   NaN      0      0    8.0500        S           0   \n",
       "417       3    1   NaN      1      1   22.3583        C           0   \n",
       "\n",
       "     Embarked_S  \n",
       "0             0  \n",
       "1             1  \n",
       "2             0  \n",
       "3             1  \n",
       "4             1  \n",
       "..          ...  \n",
       "413           1  \n",
       "414           0  \n",
       "415           1  \n",
       "416           1  \n",
       "417           0  \n",
       "\n",
       "[418 rows x 9 columns]"
      ]
     },
     "execution_count": 12,
     "metadata": {},
     "output_type": "execute_result"
    }
   ],
   "source": [
    "test_data"
   ]
  },
  {
   "cell_type": "code",
   "execution_count": 13,
   "id": "15a74f55",
   "metadata": {
    "execution": {
     "iopub.execute_input": "2022-09-20T13:13:45.575410Z",
     "iopub.status.busy": "2022-09-20T13:13:45.574643Z",
     "iopub.status.idle": "2022-09-20T13:13:45.582403Z",
     "shell.execute_reply": "2022-09-20T13:13:45.581608Z"
    },
    "papermill": {
     "duration": 0.020831,
     "end_time": "2022-09-20T13:13:45.584646",
     "exception": false,
     "start_time": "2022-09-20T13:13:45.563815",
     "status": "completed"
    },
    "tags": []
   },
   "outputs": [],
   "source": [
    "train_data.drop('Embarked',axis=1,inplace=True)\n",
    "test_data.drop('Embarked',axis=1,inplace=True)"
   ]
  },
  {
   "cell_type": "code",
   "execution_count": 14,
   "id": "3db8663e",
   "metadata": {
    "execution": {
     "iopub.execute_input": "2022-09-20T13:13:45.605715Z",
     "iopub.status.busy": "2022-09-20T13:13:45.604927Z",
     "iopub.status.idle": "2022-09-20T13:13:45.611830Z",
     "shell.execute_reply": "2022-09-20T13:13:45.611037Z"
    },
    "papermill": {
     "duration": 0.02003,
     "end_time": "2022-09-20T13:13:45.614073",
     "exception": false,
     "start_time": "2022-09-20T13:13:45.594043",
     "status": "completed"
    },
    "tags": []
   },
   "outputs": [],
   "source": [
    "train_data['Age']=train_data['Age'].fillna(train_data['Age'].mean())\n",
    "test_data['Age']=test_data['Age'].fillna(test_data['Age'].mean())"
   ]
  },
  {
   "cell_type": "code",
   "execution_count": 15,
   "id": "46856433",
   "metadata": {
    "execution": {
     "iopub.execute_input": "2022-09-20T13:13:45.634954Z",
     "iopub.status.busy": "2022-09-20T13:13:45.634160Z",
     "iopub.status.idle": "2022-09-20T13:13:45.648220Z",
     "shell.execute_reply": "2022-09-20T13:13:45.647008Z"
    },
    "papermill": {
     "duration": 0.027156,
     "end_time": "2022-09-20T13:13:45.650605",
     "exception": false,
     "start_time": "2022-09-20T13:13:45.623449",
     "status": "completed"
    },
    "tags": []
   },
   "outputs": [
    {
     "data": {
      "text/plain": [
       "(Survived      0\n",
       " Pclass        0\n",
       " Sex           0\n",
       " Age           0\n",
       " SibSp         0\n",
       " Parch         0\n",
       " Fare          0\n",
       " Embarked_Q    0\n",
       " Embarked_S    0\n",
       " dtype: int64,\n",
       "    Survived  Pclass  Sex   Age  SibSp  Parch     Fare  Embarked_Q  Embarked_S\n",
       " 0         0       3    1  22.0      1      0   7.2500           0           1\n",
       " 1         1       1    0  38.0      1      0  71.2833           0           0\n",
       " 2         1       3    0  26.0      0      0   7.9250           0           1\n",
       " 3         1       1    0  35.0      1      0  53.1000           0           1\n",
       " 4         0       3    1  35.0      0      0   8.0500           0           1)"
      ]
     },
     "execution_count": 15,
     "metadata": {},
     "output_type": "execute_result"
    }
   ],
   "source": [
    "train_data.isnull().sum(),train_data.head()"
   ]
  },
  {
   "cell_type": "code",
   "execution_count": 16,
   "id": "e036b238",
   "metadata": {
    "execution": {
     "iopub.execute_input": "2022-09-20T13:13:45.671913Z",
     "iopub.status.busy": "2022-09-20T13:13:45.671143Z",
     "iopub.status.idle": "2022-09-20T13:13:46.880507Z",
     "shell.execute_reply": "2022-09-20T13:13:46.879511Z"
    },
    "papermill": {
     "duration": 1.222761,
     "end_time": "2022-09-20T13:13:46.883066",
     "exception": false,
     "start_time": "2022-09-20T13:13:45.660305",
     "status": "completed"
    },
    "tags": []
   },
   "outputs": [],
   "source": [
    "from sklearn.model_selection import train_test_split\n",
    "from sklearn import metrics\n",
    "from sklearn.model_selection import KFold, StratifiedKFold\n",
    "from sklearn.model_selection import cross_val_score\n",
    "from sklearn.model_selection import GridSearchCV\n",
    "import matplotlib.pyplot as plt\n",
    "import seaborn as sns\n",
    "from sklearn.svm import SVC\n",
    "from sklearn.preprocessing import scale\n"
   ]
  },
  {
   "cell_type": "code",
   "execution_count": 17,
   "id": "7c1e2aa6",
   "metadata": {
    "execution": {
     "iopub.execute_input": "2022-09-20T13:13:46.904886Z",
     "iopub.status.busy": "2022-09-20T13:13:46.904110Z",
     "iopub.status.idle": "2022-09-20T13:13:46.910683Z",
     "shell.execute_reply": "2022-09-20T13:13:46.909617Z"
    },
    "papermill": {
     "duration": 0.020095,
     "end_time": "2022-09-20T13:13:46.913008",
     "exception": false,
     "start_time": "2022-09-20T13:13:46.892913",
     "status": "completed"
    },
    "tags": []
   },
   "outputs": [],
   "source": [
    "y=train_data['Survived']\n",
    "x=train_data.drop('Survived',axis=1)"
   ]
  },
  {
   "cell_type": "code",
   "execution_count": 18,
   "id": "36fa3180",
   "metadata": {
    "execution": {
     "iopub.execute_input": "2022-09-20T13:13:46.934783Z",
     "iopub.status.busy": "2022-09-20T13:13:46.934357Z",
     "iopub.status.idle": "2022-09-20T13:13:46.940256Z",
     "shell.execute_reply": "2022-09-20T13:13:46.939215Z"
    },
    "papermill": {
     "duration": 0.019396,
     "end_time": "2022-09-20T13:13:46.942459",
     "exception": false,
     "start_time": "2022-09-20T13:13:46.923063",
     "status": "completed"
    },
    "tags": []
   },
   "outputs": [],
   "source": [
    "test_data['Fare']=test_data['Fare'].fillna(test_data['Fare'].mean())"
   ]
  },
  {
   "cell_type": "code",
   "execution_count": 19,
   "id": "fd4c998f",
   "metadata": {
    "execution": {
     "iopub.execute_input": "2022-09-20T13:13:46.964679Z",
     "iopub.status.busy": "2022-09-20T13:13:46.963650Z",
     "iopub.status.idle": "2022-09-20T13:13:46.971681Z",
     "shell.execute_reply": "2022-09-20T13:13:46.970709Z"
    },
    "papermill": {
     "duration": 0.021376,
     "end_time": "2022-09-20T13:13:46.973949",
     "exception": false,
     "start_time": "2022-09-20T13:13:46.952573",
     "status": "completed"
    },
    "tags": []
   },
   "outputs": [],
   "source": [
    "x_train,x_test,y_train,y_test=train_test_split(x,y,test_size=0.2,random_state=100)"
   ]
  },
  {
   "cell_type": "code",
   "execution_count": 20,
   "id": "892eff7c",
   "metadata": {
    "execution": {
     "iopub.execute_input": "2022-09-20T13:13:46.995082Z",
     "iopub.status.busy": "2022-09-20T13:13:46.994685Z",
     "iopub.status.idle": "2022-09-20T13:13:47.030358Z",
     "shell.execute_reply": "2022-09-20T13:13:47.029457Z"
    },
    "papermill": {
     "duration": 0.04928,
     "end_time": "2022-09-20T13:13:47.032923",
     "exception": false,
     "start_time": "2022-09-20T13:13:46.983643",
     "status": "completed"
    },
    "tags": []
   },
   "outputs": [],
   "source": [
    "model=SVC(C=1,kernel='rbf')\n",
    "model.fit(x_train,y_train)\n",
    "y_pred=model.predict(x_test)"
   ]
  },
  {
   "cell_type": "code",
   "execution_count": 21,
   "id": "d71675db",
   "metadata": {
    "execution": {
     "iopub.execute_input": "2022-09-20T13:13:47.054988Z",
     "iopub.status.busy": "2022-09-20T13:13:47.054345Z",
     "iopub.status.idle": "2022-09-20T13:13:47.066748Z",
     "shell.execute_reply": "2022-09-20T13:13:47.065538Z"
    },
    "papermill": {
     "duration": 0.026177,
     "end_time": "2022-09-20T13:13:47.069381",
     "exception": false,
     "start_time": "2022-09-20T13:13:47.043204",
     "status": "completed"
    },
    "tags": []
   },
   "outputs": [
    {
     "name": "stdout",
     "output_type": "stream",
     "text": [
      "accuracy: 0.6312849162011173\n",
      "Precision: 0.6666666666666666\n",
      "Recall: 0.24\n"
     ]
    }
   ],
   "source": [
    "#model evaluation\n",
    "from sklearn import metrics\n",
    "metrics.confusion_matrix(y_true=y_test,y_pred=y_pred)\n",
    "print(\"accuracy:\",metrics.accuracy_score(y_test,y_pred))\n",
    "print(\"Precision:\",metrics.precision_score(y_test,y_pred))\n",
    "print(\"Recall:\",metrics.recall_score(y_test,y_pred))\n"
   ]
  },
  {
   "cell_type": "code",
   "execution_count": 22,
   "id": "edb792da",
   "metadata": {
    "execution": {
     "iopub.execute_input": "2022-09-20T13:13:47.091865Z",
     "iopub.status.busy": "2022-09-20T13:13:47.091476Z",
     "iopub.status.idle": "2022-09-20T13:13:50.458074Z",
     "shell.execute_reply": "2022-09-20T13:13:50.457035Z"
    },
    "papermill": {
     "duration": 3.380701,
     "end_time": "2022-09-20T13:13:50.460664",
     "exception": false,
     "start_time": "2022-09-20T13:13:47.079963",
     "status": "completed"
    },
    "tags": []
   },
   "outputs": [
    {
     "name": "stdout",
     "output_type": "stream",
     "text": [
      "Fitting 5 folds for each of 12 candidates, totalling 60 fits\n"
     ]
    },
    {
     "data": {
      "text/plain": [
       "GridSearchCV(estimator=SVC(),\n",
       "             param_grid=[{'C': [1, 10, 100, 1000],\n",
       "                          'gamma': [0.01, 0.001, 0.0001]}],\n",
       "             return_train_score=True, scoring='accuracy', verbose=1)"
      ]
     },
     "execution_count": 22,
     "metadata": {},
     "output_type": "execute_result"
    }
   ],
   "source": [
    "#create a Kfold object with the splits\n",
    "folds=KFold(n_splits=4,shuffle=True,random_state=4)\n",
    "#specify the range of the hyperparameters\n",
    "#set the parameters by the cross validation\n",
    "hyper_params=[{'gamma':[1e-2,1e-3,1e-4],\n",
    "              \"C\":[1,10,100,1000]}]\n",
    "#specify model\n",
    "model=SVC(kernel='rbf')\n",
    "#set the grid searchcv\n",
    "model_cv=GridSearchCV(estimator=model,param_grid=hyper_params,\n",
    "                      scoring='accuracy',\n",
    "                      verbose=1,\n",
    "                      return_train_score=True)\n",
    "#fit the model\n",
    "model_cv.fit(x_train,y_train)\n"
   ]
  },
  {
   "cell_type": "code",
   "execution_count": 23,
   "id": "eb694733",
   "metadata": {
    "execution": {
     "iopub.execute_input": "2022-09-20T13:13:50.482552Z",
     "iopub.status.busy": "2022-09-20T13:13:50.482123Z",
     "iopub.status.idle": "2022-09-20T13:13:50.519075Z",
     "shell.execute_reply": "2022-09-20T13:13:50.517815Z"
    },
    "papermill": {
     "duration": 0.051522,
     "end_time": "2022-09-20T13:13:50.522390",
     "exception": false,
     "start_time": "2022-09-20T13:13:50.470868",
     "status": "completed"
    },
    "tags": []
   },
   "outputs": [
    {
     "data": {
      "text/html": [
       "<div>\n",
       "<style scoped>\n",
       "    .dataframe tbody tr th:only-of-type {\n",
       "        vertical-align: middle;\n",
       "    }\n",
       "\n",
       "    .dataframe tbody tr th {\n",
       "        vertical-align: top;\n",
       "    }\n",
       "\n",
       "    .dataframe thead th {\n",
       "        text-align: right;\n",
       "    }\n",
       "</style>\n",
       "<table border=\"1\" class=\"dataframe\">\n",
       "  <thead>\n",
       "    <tr style=\"text-align: right;\">\n",
       "      <th></th>\n",
       "      <th>mean_fit_time</th>\n",
       "      <th>std_fit_time</th>\n",
       "      <th>mean_score_time</th>\n",
       "      <th>std_score_time</th>\n",
       "      <th>param_C</th>\n",
       "      <th>param_gamma</th>\n",
       "      <th>params</th>\n",
       "      <th>split0_test_score</th>\n",
       "      <th>split1_test_score</th>\n",
       "      <th>split2_test_score</th>\n",
       "      <th>...</th>\n",
       "      <th>mean_test_score</th>\n",
       "      <th>std_test_score</th>\n",
       "      <th>rank_test_score</th>\n",
       "      <th>split0_train_score</th>\n",
       "      <th>split1_train_score</th>\n",
       "      <th>split2_train_score</th>\n",
       "      <th>split3_train_score</th>\n",
       "      <th>split4_train_score</th>\n",
       "      <th>mean_train_score</th>\n",
       "      <th>std_train_score</th>\n",
       "    </tr>\n",
       "  </thead>\n",
       "  <tbody>\n",
       "    <tr>\n",
       "      <th>0</th>\n",
       "      <td>0.016472</td>\n",
       "      <td>0.000835</td>\n",
       "      <td>0.005788</td>\n",
       "      <td>0.000745</td>\n",
       "      <td>1</td>\n",
       "      <td>0.01</td>\n",
       "      <td>{'C': 1, 'gamma': 0.01}</td>\n",
       "      <td>0.727273</td>\n",
       "      <td>0.713287</td>\n",
       "      <td>0.718310</td>\n",
       "      <td>...</td>\n",
       "      <td>0.710647</td>\n",
       "      <td>0.037557</td>\n",
       "      <td>9</td>\n",
       "      <td>0.764499</td>\n",
       "      <td>0.755712</td>\n",
       "      <td>0.757895</td>\n",
       "      <td>0.749123</td>\n",
       "      <td>0.770175</td>\n",
       "      <td>0.759481</td>\n",
       "      <td>0.007260</td>\n",
       "    </tr>\n",
       "    <tr>\n",
       "      <th>1</th>\n",
       "      <td>0.015388</td>\n",
       "      <td>0.000169</td>\n",
       "      <td>0.005127</td>\n",
       "      <td>0.000047</td>\n",
       "      <td>1</td>\n",
       "      <td>0.001</td>\n",
       "      <td>{'C': 1, 'gamma': 0.001}</td>\n",
       "      <td>0.741259</td>\n",
       "      <td>0.720280</td>\n",
       "      <td>0.683099</td>\n",
       "      <td>...</td>\n",
       "      <td>0.702167</td>\n",
       "      <td>0.027712</td>\n",
       "      <td>10</td>\n",
       "      <td>0.708260</td>\n",
       "      <td>0.711775</td>\n",
       "      <td>0.719298</td>\n",
       "      <td>0.701754</td>\n",
       "      <td>0.728070</td>\n",
       "      <td>0.713832</td>\n",
       "      <td>0.009097</td>\n",
       "    </tr>\n",
       "    <tr>\n",
       "      <th>2</th>\n",
       "      <td>0.014683</td>\n",
       "      <td>0.000175</td>\n",
       "      <td>0.005253</td>\n",
       "      <td>0.000056</td>\n",
       "      <td>1</td>\n",
       "      <td>0.0001</td>\n",
       "      <td>{'C': 1, 'gamma': 0.0001}</td>\n",
       "      <td>0.713287</td>\n",
       "      <td>0.713287</td>\n",
       "      <td>0.654930</td>\n",
       "      <td>...</td>\n",
       "      <td>0.678272</td>\n",
       "      <td>0.028934</td>\n",
       "      <td>12</td>\n",
       "      <td>0.673111</td>\n",
       "      <td>0.671353</td>\n",
       "      <td>0.682456</td>\n",
       "      <td>0.682456</td>\n",
       "      <td>0.701754</td>\n",
       "      <td>0.682226</td>\n",
       "      <td>0.010796</td>\n",
       "    </tr>\n",
       "    <tr>\n",
       "      <th>3</th>\n",
       "      <td>0.017880</td>\n",
       "      <td>0.001121</td>\n",
       "      <td>0.004876</td>\n",
       "      <td>0.000090</td>\n",
       "      <td>10</td>\n",
       "      <td>0.01</td>\n",
       "      <td>{'C': 10, 'gamma': 0.01}</td>\n",
       "      <td>0.755245</td>\n",
       "      <td>0.727273</td>\n",
       "      <td>0.718310</td>\n",
       "      <td>...</td>\n",
       "      <td>0.742982</td>\n",
       "      <td>0.037364</td>\n",
       "      <td>5</td>\n",
       "      <td>0.848858</td>\n",
       "      <td>0.871705</td>\n",
       "      <td>0.861404</td>\n",
       "      <td>0.849123</td>\n",
       "      <td>0.877193</td>\n",
       "      <td>0.861656</td>\n",
       "      <td>0.011518</td>\n",
       "    </tr>\n",
       "    <tr>\n",
       "      <th>4</th>\n",
       "      <td>0.016177</td>\n",
       "      <td>0.000476</td>\n",
       "      <td>0.004850</td>\n",
       "      <td>0.000131</td>\n",
       "      <td>10</td>\n",
       "      <td>0.001</td>\n",
       "      <td>{'C': 10, 'gamma': 0.001}</td>\n",
       "      <td>0.734266</td>\n",
       "      <td>0.748252</td>\n",
       "      <td>0.718310</td>\n",
       "      <td>...</td>\n",
       "      <td>0.727489</td>\n",
       "      <td>0.018014</td>\n",
       "      <td>7</td>\n",
       "      <td>0.750439</td>\n",
       "      <td>0.752197</td>\n",
       "      <td>0.743860</td>\n",
       "      <td>0.736842</td>\n",
       "      <td>0.756140</td>\n",
       "      <td>0.747896</td>\n",
       "      <td>0.006803</td>\n",
       "    </tr>\n",
       "    <tr>\n",
       "      <th>5</th>\n",
       "      <td>0.015436</td>\n",
       "      <td>0.000321</td>\n",
       "      <td>0.005089</td>\n",
       "      <td>0.000067</td>\n",
       "      <td>10</td>\n",
       "      <td>0.0001</td>\n",
       "      <td>{'C': 10, 'gamma': 0.0001}</td>\n",
       "      <td>0.720280</td>\n",
       "      <td>0.713287</td>\n",
       "      <td>0.669014</td>\n",
       "      <td>...</td>\n",
       "      <td>0.688122</td>\n",
       "      <td>0.025137</td>\n",
       "      <td>11</td>\n",
       "      <td>0.695958</td>\n",
       "      <td>0.685413</td>\n",
       "      <td>0.694737</td>\n",
       "      <td>0.692982</td>\n",
       "      <td>0.714035</td>\n",
       "      <td>0.696625</td>\n",
       "      <td>0.009446</td>\n",
       "    </tr>\n",
       "    <tr>\n",
       "      <th>6</th>\n",
       "      <td>0.033959</td>\n",
       "      <td>0.005410</td>\n",
       "      <td>0.004681</td>\n",
       "      <td>0.000176</td>\n",
       "      <td>100</td>\n",
       "      <td>0.01</td>\n",
       "      <td>{'C': 100, 'gamma': 0.01}</td>\n",
       "      <td>0.755245</td>\n",
       "      <td>0.713287</td>\n",
       "      <td>0.711268</td>\n",
       "      <td>...</td>\n",
       "      <td>0.737368</td>\n",
       "      <td>0.037317</td>\n",
       "      <td>6</td>\n",
       "      <td>0.906854</td>\n",
       "      <td>0.905097</td>\n",
       "      <td>0.900000</td>\n",
       "      <td>0.896491</td>\n",
       "      <td>0.921053</td>\n",
       "      <td>0.905899</td>\n",
       "      <td>0.008420</td>\n",
       "    </tr>\n",
       "    <tr>\n",
       "      <th>7</th>\n",
       "      <td>0.028750</td>\n",
       "      <td>0.002447</td>\n",
       "      <td>0.004511</td>\n",
       "      <td>0.000089</td>\n",
       "      <td>100</td>\n",
       "      <td>0.001</td>\n",
       "      <td>{'C': 100, 'gamma': 0.001}</td>\n",
       "      <td>0.755245</td>\n",
       "      <td>0.804196</td>\n",
       "      <td>0.802817</td>\n",
       "      <td>...</td>\n",
       "      <td>0.796395</td>\n",
       "      <td>0.030455</td>\n",
       "      <td>1</td>\n",
       "      <td>0.843585</td>\n",
       "      <td>0.838313</td>\n",
       "      <td>0.840351</td>\n",
       "      <td>0.822807</td>\n",
       "      <td>0.836842</td>\n",
       "      <td>0.836380</td>\n",
       "      <td>0.007153</td>\n",
       "    </tr>\n",
       "    <tr>\n",
       "      <th>8</th>\n",
       "      <td>0.018571</td>\n",
       "      <td>0.000409</td>\n",
       "      <td>0.005031</td>\n",
       "      <td>0.000144</td>\n",
       "      <td>100</td>\n",
       "      <td>0.0001</td>\n",
       "      <td>{'C': 100, 'gamma': 0.0001}</td>\n",
       "      <td>0.811189</td>\n",
       "      <td>0.734266</td>\n",
       "      <td>0.781690</td>\n",
       "      <td>...</td>\n",
       "      <td>0.762612</td>\n",
       "      <td>0.033211</td>\n",
       "      <td>4</td>\n",
       "      <td>0.803163</td>\n",
       "      <td>0.783831</td>\n",
       "      <td>0.782456</td>\n",
       "      <td>0.766667</td>\n",
       "      <td>0.768421</td>\n",
       "      <td>0.780908</td>\n",
       "      <td>0.013153</td>\n",
       "    </tr>\n",
       "    <tr>\n",
       "      <th>9</th>\n",
       "      <td>0.102597</td>\n",
       "      <td>0.040574</td>\n",
       "      <td>0.004448</td>\n",
       "      <td>0.000072</td>\n",
       "      <td>1000</td>\n",
       "      <td>0.01</td>\n",
       "      <td>{'C': 1000, 'gamma': 0.01}</td>\n",
       "      <td>0.720280</td>\n",
       "      <td>0.706294</td>\n",
       "      <td>0.711268</td>\n",
       "      <td>...</td>\n",
       "      <td>0.716301</td>\n",
       "      <td>0.042788</td>\n",
       "      <td>8</td>\n",
       "      <td>0.934974</td>\n",
       "      <td>0.938489</td>\n",
       "      <td>0.935088</td>\n",
       "      <td>0.926316</td>\n",
       "      <td>0.949123</td>\n",
       "      <td>0.936798</td>\n",
       "      <td>0.007361</td>\n",
       "    </tr>\n",
       "    <tr>\n",
       "      <th>10</th>\n",
       "      <td>0.108703</td>\n",
       "      <td>0.037386</td>\n",
       "      <td>0.004272</td>\n",
       "      <td>0.000054</td>\n",
       "      <td>1000</td>\n",
       "      <td>0.001</td>\n",
       "      <td>{'C': 1000, 'gamma': 0.001}</td>\n",
       "      <td>0.762238</td>\n",
       "      <td>0.783217</td>\n",
       "      <td>0.760563</td>\n",
       "      <td>...</td>\n",
       "      <td>0.780922</td>\n",
       "      <td>0.029814</td>\n",
       "      <td>3</td>\n",
       "      <td>0.873462</td>\n",
       "      <td>0.866432</td>\n",
       "      <td>0.866667</td>\n",
       "      <td>0.857895</td>\n",
       "      <td>0.871930</td>\n",
       "      <td>0.867277</td>\n",
       "      <td>0.005459</td>\n",
       "    </tr>\n",
       "    <tr>\n",
       "      <th>11</th>\n",
       "      <td>0.053153</td>\n",
       "      <td>0.008246</td>\n",
       "      <td>0.004428</td>\n",
       "      <td>0.000083</td>\n",
       "      <td>1000</td>\n",
       "      <td>0.0001</td>\n",
       "      <td>{'C': 1000, 'gamma': 0.0001}</td>\n",
       "      <td>0.790210</td>\n",
       "      <td>0.783217</td>\n",
       "      <td>0.774648</td>\n",
       "      <td>...</td>\n",
       "      <td>0.794967</td>\n",
       "      <td>0.019347</td>\n",
       "      <td>2</td>\n",
       "      <td>0.817223</td>\n",
       "      <td>0.811951</td>\n",
       "      <td>0.815789</td>\n",
       "      <td>0.812281</td>\n",
       "      <td>0.822807</td>\n",
       "      <td>0.816010</td>\n",
       "      <td>0.003952</td>\n",
       "    </tr>\n",
       "  </tbody>\n",
       "</table>\n",
       "<p>12 rows × 22 columns</p>\n",
       "</div>"
      ],
      "text/plain": [
       "    mean_fit_time  std_fit_time  mean_score_time  std_score_time param_C  \\\n",
       "0        0.016472      0.000835         0.005788        0.000745       1   \n",
       "1        0.015388      0.000169         0.005127        0.000047       1   \n",
       "2        0.014683      0.000175         0.005253        0.000056       1   \n",
       "3        0.017880      0.001121         0.004876        0.000090      10   \n",
       "4        0.016177      0.000476         0.004850        0.000131      10   \n",
       "5        0.015436      0.000321         0.005089        0.000067      10   \n",
       "6        0.033959      0.005410         0.004681        0.000176     100   \n",
       "7        0.028750      0.002447         0.004511        0.000089     100   \n",
       "8        0.018571      0.000409         0.005031        0.000144     100   \n",
       "9        0.102597      0.040574         0.004448        0.000072    1000   \n",
       "10       0.108703      0.037386         0.004272        0.000054    1000   \n",
       "11       0.053153      0.008246         0.004428        0.000083    1000   \n",
       "\n",
       "   param_gamma                        params  split0_test_score  \\\n",
       "0         0.01       {'C': 1, 'gamma': 0.01}           0.727273   \n",
       "1        0.001      {'C': 1, 'gamma': 0.001}           0.741259   \n",
       "2       0.0001     {'C': 1, 'gamma': 0.0001}           0.713287   \n",
       "3         0.01      {'C': 10, 'gamma': 0.01}           0.755245   \n",
       "4        0.001     {'C': 10, 'gamma': 0.001}           0.734266   \n",
       "5       0.0001    {'C': 10, 'gamma': 0.0001}           0.720280   \n",
       "6         0.01     {'C': 100, 'gamma': 0.01}           0.755245   \n",
       "7        0.001    {'C': 100, 'gamma': 0.001}           0.755245   \n",
       "8       0.0001   {'C': 100, 'gamma': 0.0001}           0.811189   \n",
       "9         0.01    {'C': 1000, 'gamma': 0.01}           0.720280   \n",
       "10       0.001   {'C': 1000, 'gamma': 0.001}           0.762238   \n",
       "11      0.0001  {'C': 1000, 'gamma': 0.0001}           0.790210   \n",
       "\n",
       "    split1_test_score  split2_test_score  ...  mean_test_score  \\\n",
       "0            0.713287           0.718310  ...         0.710647   \n",
       "1            0.720280           0.683099  ...         0.702167   \n",
       "2            0.713287           0.654930  ...         0.678272   \n",
       "3            0.727273           0.718310  ...         0.742982   \n",
       "4            0.748252           0.718310  ...         0.727489   \n",
       "5            0.713287           0.669014  ...         0.688122   \n",
       "6            0.713287           0.711268  ...         0.737368   \n",
       "7            0.804196           0.802817  ...         0.796395   \n",
       "8            0.734266           0.781690  ...         0.762612   \n",
       "9            0.706294           0.711268  ...         0.716301   \n",
       "10           0.783217           0.760563  ...         0.780922   \n",
       "11           0.783217           0.774648  ...         0.794967   \n",
       "\n",
       "    std_test_score  rank_test_score  split0_train_score  split1_train_score  \\\n",
       "0         0.037557                9            0.764499            0.755712   \n",
       "1         0.027712               10            0.708260            0.711775   \n",
       "2         0.028934               12            0.673111            0.671353   \n",
       "3         0.037364                5            0.848858            0.871705   \n",
       "4         0.018014                7            0.750439            0.752197   \n",
       "5         0.025137               11            0.695958            0.685413   \n",
       "6         0.037317                6            0.906854            0.905097   \n",
       "7         0.030455                1            0.843585            0.838313   \n",
       "8         0.033211                4            0.803163            0.783831   \n",
       "9         0.042788                8            0.934974            0.938489   \n",
       "10        0.029814                3            0.873462            0.866432   \n",
       "11        0.019347                2            0.817223            0.811951   \n",
       "\n",
       "    split2_train_score  split3_train_score  split4_train_score  \\\n",
       "0             0.757895            0.749123            0.770175   \n",
       "1             0.719298            0.701754            0.728070   \n",
       "2             0.682456            0.682456            0.701754   \n",
       "3             0.861404            0.849123            0.877193   \n",
       "4             0.743860            0.736842            0.756140   \n",
       "5             0.694737            0.692982            0.714035   \n",
       "6             0.900000            0.896491            0.921053   \n",
       "7             0.840351            0.822807            0.836842   \n",
       "8             0.782456            0.766667            0.768421   \n",
       "9             0.935088            0.926316            0.949123   \n",
       "10            0.866667            0.857895            0.871930   \n",
       "11            0.815789            0.812281            0.822807   \n",
       "\n",
       "    mean_train_score  std_train_score  \n",
       "0           0.759481         0.007260  \n",
       "1           0.713832         0.009097  \n",
       "2           0.682226         0.010796  \n",
       "3           0.861656         0.011518  \n",
       "4           0.747896         0.006803  \n",
       "5           0.696625         0.009446  \n",
       "6           0.905899         0.008420  \n",
       "7           0.836380         0.007153  \n",
       "8           0.780908         0.013153  \n",
       "9           0.936798         0.007361  \n",
       "10          0.867277         0.005459  \n",
       "11          0.816010         0.003952  \n",
       "\n",
       "[12 rows x 22 columns]"
      ]
     },
     "execution_count": 23,
     "metadata": {},
     "output_type": "execute_result"
    }
   ],
   "source": [
    "cv_results=pd.DataFrame(model_cv.cv_results_)\n",
    "cv_results"
   ]
  },
  {
   "cell_type": "code",
   "execution_count": 24,
   "id": "ecb66f1d",
   "metadata": {
    "execution": {
     "iopub.execute_input": "2022-09-20T13:13:50.546077Z",
     "iopub.status.busy": "2022-09-20T13:13:50.545689Z",
     "iopub.status.idle": "2022-09-20T13:13:51.948062Z",
     "shell.execute_reply": "2022-09-20T13:13:51.946594Z"
    },
    "papermill": {
     "duration": 1.417051,
     "end_time": "2022-09-20T13:13:51.950699",
     "exception": false,
     "start_time": "2022-09-20T13:13:50.533648",
     "status": "completed"
    },
    "tags": []
   },
   "outputs": [
    {
     "data": {
      "image/png": "[encoded data removed]",
      "text/plain": [
       "<Figure size 1152x432 with 3 Axes>"
      ]
     },
     "metadata": {
      "needs_background": "light"
     },
     "output_type": "display_data"
    }
   ],
   "source": [
    "cv_results[\"param_C\"]=cv_results[\"param_C\"].astype('int')\n",
    "#plotting\n",
    "plt.figure(figsize=(16,6))\n",
    "plt.subplot(131)\n",
    "gamma_01=cv_results[cv_results[\"param_gamma\"]==0.01]\n",
    "plt.plot(gamma_01[\"param_C\"],gamma_01['mean_test_score'])\n",
    "plt.plot(gamma_01[\"param_C\"],gamma_01['mean_train_score'])\n",
    "plt.xlabel(\"C\")\n",
    "plt.ylabel(\"Accuracy\")\n",
    "plt.title('Gamma_0.01')\n",
    "plt.legend([\"test_accuracy\",'train_accuracy'],loc=\"upper left\")\n",
    "plt.xscale(\"log\")\n",
    "#subplot 2/3\n",
    "plt.subplot(132)\n",
    "gamma_01=cv_results[cv_results[\"param_gamma\"]==0.001]\n",
    "plt.plot(gamma_01[\"param_C\"],gamma_01['mean_test_score'])\n",
    "plt.plot(gamma_01[\"param_C\"],gamma_01['mean_train_score'])\n",
    "plt.xlabel(\"C\")\n",
    "plt.ylabel(\"Accuracy\")\n",
    "plt.title('Gamma_0.001')\n",
    "plt.legend([\"test_accuracy\",'train_accuracy'],loc=\"upper left\")\n",
    "plt.xscale(\"log\")\n",
    "#subplot 3/3\n",
    "plt.subplot(133)\n",
    "gamma_01=cv_results[cv_results[\"param_gamma\"]==0.0001]\n",
    "plt.plot(gamma_01[\"param_C\"],gamma_01['mean_test_score'])\n",
    "plt.plot(gamma_01[\"param_C\"],gamma_01['mean_train_score'])\n",
    "plt.xlabel(\"C\")\n",
    "plt.ylabel(\"Accuracy\")\n",
    "plt.title('Gamma_0.0001')\n",
    "plt.legend([\"test_accuracy\",'train_accuracy'],loc=\"upper left\")\n",
    "plt.xscale(\"log\")\n"
   ]
  },
  {
   "cell_type": "code",
   "execution_count": 25,
   "id": "7399f40b",
   "metadata": {
    "execution": {
     "iopub.execute_input": "2022-09-20T13:13:51.975833Z",
     "iopub.status.busy": "2022-09-20T13:13:51.974795Z",
     "iopub.status.idle": "2022-09-20T13:13:51.981378Z",
     "shell.execute_reply": "2022-09-20T13:13:51.980164Z"
    },
    "papermill": {
     "duration": 0.021353,
     "end_time": "2022-09-20T13:13:51.983738",
     "exception": false,
     "start_time": "2022-09-20T13:13:51.962385",
     "status": "completed"
    },
    "tags": []
   },
   "outputs": [
    {
     "name": "stdout",
     "output_type": "stream",
     "text": [
      "score:0.796395154141633\n",
      " best_hyperparameters:{'C': 100, 'gamma': 0.001}\n"
     ]
    }
   ],
   "source": [
    "#printing the optimal accuracy and hyperparameters\n",
    "best_scores=model_cv.best_score_\n",
    "best_hyperparams=model_cv.best_params_\n",
    "print(f'score:{best_scores}\\n best_hyperparameters:{best_hyperparams}')\n"
   ]
  },
  {
   "cell_type": "code",
   "execution_count": 26,
   "id": "ce0dad20",
   "metadata": {
    "execution": {
     "iopub.execute_input": "2022-09-20T13:13:52.008168Z",
     "iopub.status.busy": "2022-09-20T13:13:52.007759Z",
     "iopub.status.idle": "2022-09-20T13:13:52.070818Z",
     "shell.execute_reply": "2022-09-20T13:13:52.069136Z"
    },
    "papermill": {
     "duration": 0.077996,
     "end_time": "2022-09-20T13:13:52.073321",
     "exception": false,
     "start_time": "2022-09-20T13:13:51.995325",
     "status": "completed"
    },
    "tags": []
   },
   "outputs": [
    {
     "name": "stdout",
     "output_type": "stream",
     "text": [
      "[[87 17]\n",
      " [18 57]] \n",
      "\n",
      "accuracy 0.8044692737430168\n",
      "Precision: 0.7702702702702703\n",
      "Sensitivity/Recall: 0.76\n"
     ]
    }
   ],
   "source": [
    "#building the final model\n",
    "#specify the hyperparameters\n",
    "best_params={\"C\":100,\"gamma\":0.001,\"kernel\":'rbf'}\n",
    "#model\n",
    "model=SVC(C=100,gamma=0.001,kernel=\"rbf\")\n",
    "model.fit(x_train,y_train)\n",
    "y_pred=model.predict(x_test)\n",
    "print(metrics.confusion_matrix(y_test,y_pred),\"\\n\")\n",
    "print(\"accuracy\",metrics.accuracy_score(y_test,y_pred))\n",
    "print(\"Precision:\",metrics.precision_score(y_test,y_pred))\n",
    "print(\"Sensitivity/Recall:\",metrics.recall_score(y_test,y_pred))\n"
   ]
  },
  {
   "cell_type": "code",
   "execution_count": 27,
   "id": "ccd28c95",
   "metadata": {
    "execution": {
     "iopub.execute_input": "2022-09-20T13:13:52.097641Z",
     "iopub.status.busy": "2022-09-20T13:13:52.097211Z",
     "iopub.status.idle": "2022-09-20T13:13:52.102254Z",
     "shell.execute_reply": "2022-09-20T13:13:52.101157Z"
    },
    "papermill": {
     "duration": 0.019838,
     "end_time": "2022-09-20T13:13:52.104568",
     "exception": false,
     "start_time": "2022-09-20T13:13:52.084730",
     "status": "completed"
    },
    "tags": []
   },
   "outputs": [],
   "source": [
    "test_data1=test_data"
   ]
  },
  {
   "cell_type": "code",
   "execution_count": 28,
   "id": "be56446f",
   "metadata": {
    "execution": {
     "iopub.execute_input": "2022-09-20T13:13:52.128733Z",
     "iopub.status.busy": "2022-09-20T13:13:52.128304Z",
     "iopub.status.idle": "2022-09-20T13:13:52.143574Z",
     "shell.execute_reply": "2022-09-20T13:13:52.142424Z"
    },
    "papermill": {
     "duration": 0.030085,
     "end_time": "2022-09-20T13:13:52.146010",
     "exception": false,
     "start_time": "2022-09-20T13:13:52.115925",
     "status": "completed"
    },
    "tags": []
   },
   "outputs": [],
   "source": [
    "predictions=model.predict(test_data1)"
   ]
  },
  {
   "cell_type": "code",
   "execution_count": 29,
   "id": "967b9f0f",
   "metadata": {
    "execution": {
     "iopub.execute_input": "2022-09-20T13:13:52.170273Z",
     "iopub.status.busy": "2022-09-20T13:13:52.169823Z",
     "iopub.status.idle": "2022-09-20T13:13:52.179967Z",
     "shell.execute_reply": "2022-09-20T13:13:52.178836Z"
    },
    "papermill": {
     "duration": 0.024792,
     "end_time": "2022-09-20T13:13:52.182241",
     "exception": false,
     "start_time": "2022-09-20T13:13:52.157449",
     "status": "completed"
    },
    "tags": []
   },
   "outputs": [],
   "source": [
    "data_test=pd.read_csv('../input/titanic/test.csv')"
   ]
  },
  {
   "cell_type": "code",
   "execution_count": 30,
   "id": "5d4e5306",
   "metadata": {
    "execution": {
     "iopub.execute_input": "2022-09-20T13:13:52.206297Z",
     "iopub.status.busy": "2022-09-20T13:13:52.205880Z",
     "iopub.status.idle": "2022-09-20T13:13:52.213353Z",
     "shell.execute_reply": "2022-09-20T13:13:52.212120Z"
    },
    "papermill": {
     "duration": 0.021959,
     "end_time": "2022-09-20T13:13:52.215527",
     "exception": false,
     "start_time": "2022-09-20T13:13:52.193568",
     "status": "completed"
    },
    "tags": []
   },
   "outputs": [
    {
     "data": {
      "text/plain": [
       "Index(['PassengerId', 'Pclass', 'Name', 'Sex', 'Age', 'SibSp', 'Parch',\n",
       "       'Ticket', 'Fare', 'Cabin', 'Embarked'],\n",
       "      dtype='object')"
      ]
     },
     "execution_count": 30,
     "metadata": {},
     "output_type": "execute_result"
    }
   ],
   "source": [
    "data_test.columns"
   ]
  },
  {
   "cell_type": "code",
   "execution_count": 31,
   "id": "66920f75",
   "metadata": {
    "execution": {
     "iopub.execute_input": "2022-09-20T13:13:52.239697Z",
     "iopub.status.busy": "2022-09-20T13:13:52.239277Z",
     "iopub.status.idle": "2022-09-20T13:13:52.245396Z",
     "shell.execute_reply": "2022-09-20T13:13:52.244268Z"
    },
    "papermill": {
     "duration": 0.020813,
     "end_time": "2022-09-20T13:13:52.247759",
     "exception": false,
     "start_time": "2022-09-20T13:13:52.226946",
     "status": "completed"
    },
    "tags": []
   },
   "outputs": [],
   "source": [
    "submission_file=pd.DataFrame({'PassengerId':data_test.PassengerId,'Survived':predictions})\n"
   ]
  },
  {
   "cell_type": "code",
   "execution_count": 32,
   "id": "bca4fe14",
   "metadata": {
    "execution": {
     "iopub.execute_input": "2022-09-20T13:13:52.273300Z",
     "iopub.status.busy": "2022-09-20T13:13:52.272875Z",
     "iopub.status.idle": "2022-09-20T13:13:52.286219Z",
     "shell.execute_reply": "2022-09-20T13:13:52.285430Z"
    },
    "papermill": {
     "duration": 0.028722,
     "end_time": "2022-09-20T13:13:52.288304",
     "exception": false,
     "start_time": "2022-09-20T13:13:52.259582",
     "status": "completed"
    },
    "tags": []
   },
   "outputs": [
    {
     "data": {
      "text/html": [
       "<div>\n",
       "<style scoped>\n",
       "    .dataframe tbody tr th:only-of-type {\n",
       "        vertical-align: middle;\n",
       "    }\n",
       "\n",
       "    .dataframe tbody tr th {\n",
       "        vertical-align: top;\n",
       "    }\n",
       "\n",
       "    .dataframe thead th {\n",
       "        text-align: right;\n",
       "    }\n",
       "</style>\n",
       "<table border=\"1\" class=\"dataframe\">\n",
       "  <thead>\n",
       "    <tr style=\"text-align: right;\">\n",
       "      <th></th>\n",
       "      <th>PassengerId</th>\n",
       "      <th>Survived</th>\n",
       "    </tr>\n",
       "  </thead>\n",
       "  <tbody>\n",
       "    <tr>\n",
       "      <th>0</th>\n",
       "      <td>892</td>\n",
       "      <td>0</td>\n",
       "    </tr>\n",
       "    <tr>\n",
       "      <th>1</th>\n",
       "      <td>893</td>\n",
       "      <td>1</td>\n",
       "    </tr>\n",
       "    <tr>\n",
       "      <th>2</th>\n",
       "      <td>894</td>\n",
       "      <td>0</td>\n",
       "    </tr>\n",
       "    <tr>\n",
       "      <th>3</th>\n",
       "      <td>895</td>\n",
       "      <td>0</td>\n",
       "    </tr>\n",
       "    <tr>\n",
       "      <th>4</th>\n",
       "      <td>896</td>\n",
       "      <td>1</td>\n",
       "    </tr>\n",
       "    <tr>\n",
       "      <th>...</th>\n",
       "      <td>...</td>\n",
       "      <td>...</td>\n",
       "    </tr>\n",
       "    <tr>\n",
       "      <th>413</th>\n",
       "      <td>1305</td>\n",
       "      <td>0</td>\n",
       "    </tr>\n",
       "    <tr>\n",
       "      <th>414</th>\n",
       "      <td>1306</td>\n",
       "      <td>1</td>\n",
       "    </tr>\n",
       "    <tr>\n",
       "      <th>415</th>\n",
       "      <td>1307</td>\n",
       "      <td>0</td>\n",
       "    </tr>\n",
       "    <tr>\n",
       "      <th>416</th>\n",
       "      <td>1308</td>\n",
       "      <td>0</td>\n",
       "    </tr>\n",
       "    <tr>\n",
       "      <th>417</th>\n",
       "      <td>1309</td>\n",
       "      <td>0</td>\n",
       "    </tr>\n",
       "  </tbody>\n",
       "</table>\n",
       "<p>418 rows × 2 columns</p>\n",
       "</div>"
      ],
      "text/plain": [
       "     PassengerId  Survived\n",
       "0            892         0\n",
       "1            893         1\n",
       "2            894         0\n",
       "3            895         0\n",
       "4            896         1\n",
       "..           ...       ...\n",
       "413         1305         0\n",
       "414         1306         1\n",
       "415         1307         0\n",
       "416         1308         0\n",
       "417         1309         0\n",
       "\n",
       "[418 rows x 2 columns]"
      ]
     },
     "execution_count": 32,
     "metadata": {},
     "output_type": "execute_result"
    }
   ],
   "source": [
    "submission_file.to_csv('submission.csv',index=False)\n",
    "submission_file"
   ]
  },
  {
   "cell_type": "code",
   "execution_count": null,
   "id": "bde020f5",
   "metadata": {
    "papermill": {
     "duration": 0.011255,
     "end_time": "2022-09-20T13:13:52.311634",
     "exception": false,
     "start_time": "2022-09-20T13:13:52.300379",
     "status": "completed"
    },
    "tags": []
   },
   "outputs": [],
   "source": []
  }
 ],
 "metadata": {
  "kernelspec": {
   "display_name": "Python 3",
   "language": "python",
   "name": "python3"
  },
  "language_info": {
   "codemirror_mode": {
    "name": "ipython",
    "version": 3
   },
   "file_extension": ".py",
   "mimetype": "text/x-python",
   "name": "python",
   "nbconvert_exporter": "python",
   "pygments_lexer": "ipython3",
   "version": "3.7.12"
  },
  "papermill": {
   "default_parameters": {},
   "duration": 16.748451,
   "end_time": "2022-09-20T13:13:53.044712",
   "environment_variables": {},
   "exception": null,
   "input_path": "__notebook__.ipynb",
   "output_path": "__notebook__.ipynb",
   "parameters": {},
   "start_time": "2022-09-20T13:13:36.296261",
   "version": "2.3.4"
  }
 },
 "nbformat": 4,
 "nbformat_minor": 5
}
